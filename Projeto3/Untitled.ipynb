{
 "cells": [
  {
   "cell_type": "markdown",
   "metadata": {},
   "source": [
    "# Projeto 3 - Regressão Linear Múltipla "
   ]
  },
  {
   "cell_type": "markdown",
   "metadata": {},
   "source": [
    "### Gabriel Noal & William Palmieri"
   ]
  },
  {
   "cell_type": "markdown",
   "metadata": {},
   "source": [
    "   "
   ]
  },
  {
   "cell_type": "markdown",
   "metadata": {},
   "source": [
    "    "
   ]
  },
  {
   "cell_type": "markdown",
   "metadata": {},
   "source": [
    "<p> Regressão Múltipla é uma técnica estatística utilizada na construção de modelos que descrevem as relações que algumas variáveis têm com outra. </p>\n",
    "<p> A análise é feita através da relação apresentada por uma variável principal, denominada \"Dependente\", e as variáveis \"Explicativas\". </p>"
   ]
  },
  {
   "cell_type": "markdown",
   "metadata": {},
   "source": [
    "   "
   ]
  },
  {
   "cell_type": "code",
<<<<<<< HEAD
   "execution_count": 137,
=======
   "execution_count": 1,
>>>>>>> d62c573f55e8f517e3efb11aa318c4bc6dea5001
   "metadata": {
    "collapsed": false
   },
   "outputs": [],
   "source": [
    "%matplotlib inline\n",
    "\n",
    "import os\n",
    "import matplotlib.pyplot as plt\n",
    "from mpl_toolkits.mplot3d import Axes3D\n",
    "from matplotlib import cm\n",
    "import pandas as pd\n",
    "import numpy as np\n",
    "import math\n",
    "\n",
    "import statsmodels.api as sm1 #Usa OLS com X como matriz de planejamento\n",
    "import statsmodels.formula.api as sm  #Usa OLS como no R"
   ]
  },
  {
   "cell_type": "markdown",
   "metadata": {},
   "source": [
    "<p> Nossa análise será em torno do Índice de Percepcção de Corrupção (IPC).  </p>\n",
    "<p> A seguir, temos a tabela retirada do site: https://www.gapminder.org/data/. </p>"
   ]
  },
  {
   "cell_type": "markdown",
   "metadata": {},
   "source": [
    "   "
   ]
  },
  {
   "cell_type": "markdown",
   "metadata": {},
   "source": [
    "#### Dados do IPC"
   ]
  },
  {
   "cell_type": "code",
<<<<<<< HEAD
   "execution_count": 138,
=======
   "execution_count": 2,
>>>>>>> d62c573f55e8f517e3efb11aa318c4bc6dea5001
   "metadata": {
    "collapsed": false
   },
   "outputs": [
    {
     "data": {
      "text/html": [
       "<div>\n",
       "<table border=\"1\" class=\"dataframe\">\n",
       "  <thead>\n",
       "    <tr style=\"text-align: right;\">\n",
       "      <th></th>\n",
       "      <th>CPI</th>\n",
       "    </tr>\n",
       "    <tr>\n",
       "      <th>Países</th>\n",
       "      <th></th>\n",
       "    </tr>\n",
       "  </thead>\n",
       "  <tbody>\n",
       "    <tr>\n",
       "      <th>New Zealand</th>\n",
       "      <td>9.3</td>\n",
       "    </tr>\n",
       "    <tr>\n",
       "      <th>Denmark</th>\n",
       "      <td>9.3</td>\n",
       "    </tr>\n",
       "    <tr>\n",
       "      <th>Sweden</th>\n",
       "      <td>9.2</td>\n",
       "    </tr>\n",
       "    <tr>\n",
       "      <th>Singapore</th>\n",
       "      <td>9.3</td>\n",
       "    </tr>\n",
       "    <tr>\n",
       "      <th>Switzerland</th>\n",
       "      <td>8.7</td>\n",
       "    </tr>\n",
       "  </tbody>\n",
       "</table>\n",
       "</div>"
      ],
      "text/plain": [
       "             CPI\n",
       "Países          \n",
       "New Zealand  9.3\n",
       "Denmark      9.3\n",
       "Sweden       9.2\n",
       "Singapore    9.3\n",
       "Switzerland  8.7"
      ]
     },
<<<<<<< HEAD
     "execution_count": 138,
=======
     "execution_count": 2,
>>>>>>> d62c573f55e8f517e3efb11aa318c4bc6dea5001
     "metadata": {},
     "output_type": "execute_result"
    }
   ],
   "source": [
    "notas1 = pd.read_excel(\"indicator ti cpi 2009.xlsx\",index_col = 0)\n",
    "notas1.head()"
   ]
  },
  {
   "cell_type": "markdown",
   "metadata": {},
   "source": [
    "<p> Levaremos em conta em nossa análise como variáveis explicativas os parâmetros \"IDH\" e \"Mortalidade Infantil\". Ambos retirados do site: https://www.gapminder.org/data/. </p>"
   ]
  },
  {
   "cell_type": "markdown",
   "metadata": {},
   "source": [
    "  "
   ]
  },
  {
   "cell_type": "markdown",
   "metadata": {},
   "source": [
    "#### Dados do IDH"
   ]
  },
  {
   "cell_type": "code",
<<<<<<< HEAD
   "execution_count": 139,
=======
   "execution_count": 3,
>>>>>>> d62c573f55e8f517e3efb11aa318c4bc6dea5001
   "metadata": {
    "collapsed": false
   },
   "outputs": [
    {
     "data": {
      "text/html": [
       "<div>\n",
       "<table border=\"1\" class=\"dataframe\">\n",
       "  <thead>\n",
       "    <tr style=\"text-align: right;\">\n",
       "      <th></th>\n",
       "      <th>IDH</th>\n",
       "    </tr>\n",
       "    <tr>\n",
       "      <th>Países</th>\n",
       "      <th></th>\n",
       "    </tr>\n",
       "  </thead>\n",
       "  <tbody>\n",
       "    <tr>\n",
       "      <th>Abkhazia</th>\n",
       "      <td>NaN</td>\n",
       "    </tr>\n",
       "    <tr>\n",
       "      <th>Afghanistan</th>\n",
       "      <td>0.387</td>\n",
       "    </tr>\n",
       "    <tr>\n",
       "      <th>Akrotiri and Dhekelia</th>\n",
       "      <td>NaN</td>\n",
       "    </tr>\n",
       "    <tr>\n",
       "      <th>Albania</th>\n",
       "      <td>0.734</td>\n",
       "    </tr>\n",
       "    <tr>\n",
       "      <th>Algeria</th>\n",
       "      <td>0.691</td>\n",
       "    </tr>\n",
       "  </tbody>\n",
       "</table>\n",
       "</div>"
      ],
      "text/plain": [
       "                         IDH\n",
       "Países                      \n",
       "Abkhazia                 NaN\n",
       "Afghanistan            0.387\n",
       "Akrotiri and Dhekelia    NaN\n",
       "Albania                0.734\n",
       "Algeria                0.691"
      ]
     },
<<<<<<< HEAD
     "execution_count": 139,
=======
     "execution_count": 3,
>>>>>>> d62c573f55e8f517e3efb11aa318c4bc6dea5001
     "metadata": {},
     "output_type": "execute_result"
    }
   ],
   "source": [
    "notas2 = pd.read_excel(\"Indicator_HDI.xlsx\",index_col = 0)\n",
    "\n",
    "notas2.head()"
   ]
  },
  {
   "cell_type": "markdown",
   "metadata": {},
   "source": [
    "   "
   ]
  },
  {
   "cell_type": "markdown",
   "metadata": {},
   "source": [
    "#### Dados da Mortalidade Infantil"
   ]
  },
  {
   "cell_type": "code",
<<<<<<< HEAD
   "execution_count": 140,
=======
   "execution_count": 4,
>>>>>>> d62c573f55e8f517e3efb11aa318c4bc6dea5001
   "metadata": {
    "collapsed": false,
    "scrolled": true
   },
   "outputs": [
    {
     "data": {
      "text/html": [
       "<div>\n",
       "<table border=\"1\" class=\"dataframe\">\n",
       "  <thead>\n",
       "    <tr style=\"text-align: right;\">\n",
       "      <th></th>\n",
       "      <th>Mortalidade_Infantil</th>\n",
       "    </tr>\n",
       "    <tr>\n",
       "      <th>País</th>\n",
       "      <th></th>\n",
       "    </tr>\n",
       "  </thead>\n",
       "  <tbody>\n",
       "    <tr>\n",
       "      <th>Abkhazia</th>\n",
       "      <td>NaN</td>\n",
       "    </tr>\n",
       "    <tr>\n",
       "      <th>Afghanistan</th>\n",
       "      <td>76.8</td>\n",
       "    </tr>\n",
       "    <tr>\n",
       "      <th>Akrotiri and Dhekelia</th>\n",
       "      <td>NaN</td>\n",
       "    </tr>\n",
       "    <tr>\n",
       "      <th>Albania</th>\n",
       "      <td>15.4</td>\n",
       "    </tr>\n",
       "    <tr>\n",
       "      <th>Algeria</th>\n",
       "      <td>24.3</td>\n",
       "    </tr>\n",
       "  </tbody>\n",
       "</table>\n",
       "</div>"
      ],
      "text/plain": [
       "                       Mortalidade_Infantil\n",
       "País                                       \n",
       "Abkhazia                                NaN\n",
       "Afghanistan                            76.8\n",
       "Akrotiri and Dhekelia                   NaN\n",
       "Albania                                15.4\n",
       "Algeria                                24.3"
      ]
     },
<<<<<<< HEAD
     "execution_count": 140,
=======
     "execution_count": 4,
>>>>>>> d62c573f55e8f517e3efb11aa318c4bc6dea5001
     "metadata": {},
     "output_type": "execute_result"
    }
   ],
   "source": [
    "notas3 = pd.read_excel(\"indicator gapminder infant_mortality.xlsx\",index_col = 0)\n",
    "notas3.head()"
   ]
  },
  {
   "cell_type": "markdown",
   "metadata": {},
   "source": [
    "   "
   ]
  },
  {
   "cell_type": "markdown",
   "metadata": {},
   "source": [
    "#### Tabela com todos os dados"
   ]
  },
  {
   "cell_type": "code",
<<<<<<< HEAD
   "execution_count": 141,
=======
   "execution_count": 5,
>>>>>>> d62c573f55e8f517e3efb11aa318c4bc6dea5001
   "metadata": {
    "collapsed": false
   },
   "outputs": [
    {
     "data": {
      "text/html": [
       "<div>\n",
       "<table border=\"1\" class=\"dataframe\">\n",
       "  <thead>\n",
       "    <tr style=\"text-align: right;\">\n",
       "      <th></th>\n",
       "      <th>CPI</th>\n",
       "      <th>IDH</th>\n",
       "      <th>Mortalidade_Infantil</th>\n",
       "    </tr>\n",
       "  </thead>\n",
       "  <tbody>\n",
       "    <tr>\n",
       "      <th>Afghanistan</th>\n",
       "      <td>1.4</td>\n",
       "      <td>0.387</td>\n",
       "      <td>76.8</td>\n",
       "    </tr>\n",
       "    <tr>\n",
       "      <th>Albania</th>\n",
       "      <td>3.3</td>\n",
       "      <td>0.734</td>\n",
       "      <td>15.4</td>\n",
       "    </tr>\n",
       "    <tr>\n",
       "      <th>Algeria</th>\n",
       "      <td>2.9</td>\n",
       "      <td>0.691</td>\n",
       "      <td>24.3</td>\n",
       "    </tr>\n",
       "    <tr>\n",
       "      <th>Angola</th>\n",
       "      <td>1.9</td>\n",
       "      <td>0.481</td>\n",
       "      <td>112.2</td>\n",
       "    </tr>\n",
       "    <tr>\n",
       "      <th>Argentina</th>\n",
       "      <td>2.9</td>\n",
       "      <td>0.788</td>\n",
       "      <td>13.4</td>\n",
       "    </tr>\n",
       "  </tbody>\n",
       "</table>\n",
       "</div>"
      ],
      "text/plain": [
       "             CPI    IDH  Mortalidade_Infantil\n",
       "Afghanistan  1.4  0.387                  76.8\n",
       "Albania      3.3  0.734                  15.4\n",
       "Algeria      2.9  0.691                  24.3\n",
       "Angola       1.9  0.481                 112.2\n",
       "Argentina    2.9  0.788                  13.4"
      ]
     },
<<<<<<< HEAD
     "execution_count": 141,
=======
     "execution_count": 5,
>>>>>>> d62c573f55e8f517e3efb11aa318c4bc6dea5001
     "metadata": {},
     "output_type": "execute_result"
    }
   ],
   "source": [
    "#Juntando os dados\n",
    "dados = notas1.join(notas2,how =\"outer\")\n",
    "dados = dados.join(notas3,how=\"outer\")\n",
    "\n",
    "#Retirando os \"NaNs\"\n",
    "dados=dados[~np.isnan(dados.CPI)]\n",
    "dados=dados[~np.isnan(dados.IDH)]\n",
    "dados=dados[~np.isnan(dados.Mortalidade_Infantil)]\n",
    "dados.head()"
   ]
  },
  {
   "cell_type": "code",
<<<<<<< HEAD
   "execution_count": 142,
=======
   "execution_count": 7,
>>>>>>> d62c573f55e8f517e3efb11aa318c4bc6dea5001
   "metadata": {
    "collapsed": false
   },
   "outputs": [
    {
     "data": {
      "image/png": "iVBORw0KGgoAAAANSUhEUgAAA70AAAEWCAYAAACqmfCoAAAABHNCSVQICAgIfAhkiAAAAAlwSFlz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\nmZlZaf0HKQKRUm58Z6YAAAAASUVORK5CYII=\n",
      "text/plain": [
<<<<<<< HEAD
       "<matplotlib.figure.Figure at 0x195a8e42710>"
=======
       "<matplotlib.figure.Figure at 0x1d359c50b38>"
>>>>>>> d62c573f55e8f517e3efb11aa318c4bc6dea5001
      ]
     },
     "metadata": {},
     "output_type": "display_data"
    }
   ],
   "source": [
    "f, ax = plt.subplots(1,2,figsize=(16,4))\n",
    "ax[0].scatter(dados.IDH, dados.CPI, alpha=0.6, color = \"green\")  # Plot the raw data\n",
    "ax[0].set_xlabel(\"IDH\")\n",
    "ax[0].set_ylabel(\"Índice de Percepcção de Corrupção\")\n",
    "ax[0].set_xlim(0.2, 1)\n",
    "ax[0].set_yscale(\"log\")\n",
    "\n",
    "ax[1].scatter(dados.Mortalidade_Infantil, dados.CPI, alpha=0.6, color = \"red\")  # Plot the raw data\n",
    "ax[1].set_xlabel(\"Mortalidade Infantil\")\n",
    "ax[1].set_ylabel(\"Índice de Percepcção de Corrupção\")\n",
    "ax[1].set_yscale(\"log\")\n",
    "ax[1].set_xscale(\"log\")"
   ]
  },
  {
   "cell_type": "code",
   "execution_count": 45,
   "metadata": {
    "collapsed": false
   },
   "outputs": [
    {
     "name": "stderr",
     "output_type": "stream",
     "text": [
      "C:\\Anaconda3\\lib\\site-packages\\IPython\\core\\interactiveshell.py:2869: FutureWarning: The pandas.stats.ols module is deprecated and will be removed in a future version. We refer to external packages like statsmodels, see some examples here: http://statsmodels.sourceforge.net/stable/regression.html\n",
      "  exec(code_obj, self.user_global_ns, self.user_ns)\n"
     ]
    }
   ],
   "source": [
    "prev_CPI_IDH = pd.ols(y=dados.CPI, x=dados.IDH)\n",
    "prev_CPI_MortalidadeInfantil = pd.ols(y=dados.CPI, x=dados.Mortalidade_Infantil)"
   ]
  },
  {
   "cell_type": "code",
   "execution_count": 52,
   "metadata": {
    "collapsed": false
   },
   "outputs": [],
   "source": [
    "IDH = sm.OLS(dados.CPI,dados.IDH).fit()"
   ]
  },
  {
   "cell_type": "code",
   "execution_count": 50,
   "metadata": {
    "collapsed": false
   },
   "outputs": [
    {
     "data": {
      "text/html": [
       "<table class=\"simpletable\">\n",
       "<caption>OLS Regression Results</caption>\n",
       "<tr>\n",
       "  <th>Dep. Variable:</th>           <td>CPI</td>       <th>  R-squared:         </th> <td>   0.891</td>\n",
       "</tr>\n",
       "<tr>\n",
       "  <th>Model:</th>                   <td>OLS</td>       <th>  Adj. R-squared:    </th> <td>   0.890</td>\n",
       "</tr>\n",
       "<tr>\n",
       "  <th>Method:</th>             <td>Least Squares</td>  <th>  F-statistic:       </th> <td>   1318.</td>\n",
       "</tr>\n",
       "<tr>\n",
       "  <th>Date:</th>             <td>Thu, 24 Nov 2016</td> <th>  Prob (F-statistic):</th> <td>1.02e-79</td>\n",
       "</tr>\n",
       "<tr>\n",
       "  <th>Time:</th>                 <td>18:11:08</td>     <th>  Log-Likelihood:    </th> <td> -296.97</td>\n",
       "</tr>\n",
       "<tr>\n",
       "  <th>No. Observations:</th>      <td>   163</td>      <th>  AIC:               </th> <td>   595.9</td>\n",
       "</tr>\n",
       "<tr>\n",
       "  <th>Df Residuals:</th>          <td>   162</td>      <th>  BIC:               </th> <td>   599.0</td>\n",
       "</tr>\n",
       "<tr>\n",
       "  <th>Df Model:</th>              <td>     1</td>      <th>                     </th>     <td> </td>   \n",
       "</tr>\n",
       "<tr>\n",
       "  <th>Covariance Type:</th>      <td>nonrobust</td>    <th>                     </th>     <td> </td>   \n",
       "</tr>\n",
       "</table>\n",
       "<table class=\"simpletable\">\n",
       "<tr>\n",
       "   <td></td>      <th>coef</th>     <th>std err</th>      <th>t</th>      <th>P>|t|</th> <th>[95.0% Conf. Int.]</th> \n",
       "</tr>\n",
       "<tr>\n",
       "  <th>IDH</th> <td>    6.3321</td> <td>    0.174</td> <td>   36.300</td> <td> 0.000</td> <td>    5.988     6.677</td>\n",
       "</tr>\n",
       "</table>\n",
       "<table class=\"simpletable\">\n",
       "<tr>\n",
       "  <th>Omnibus:</th>       <td>13.503</td> <th>  Durbin-Watson:     </th> <td>   1.766</td>\n",
       "</tr>\n",
       "<tr>\n",
       "  <th>Prob(Omnibus):</th> <td> 0.001</td> <th>  Jarque-Bera (JB):  </th> <td>  14.991</td>\n",
       "</tr>\n",
       "<tr>\n",
       "  <th>Skew:</th>          <td> 0.743</td> <th>  Prob(JB):          </th> <td>0.000556</td>\n",
       "</tr>\n",
       "<tr>\n",
       "  <th>Kurtosis:</th>      <td> 3.035</td> <th>  Cond. No.          </th> <td>    1.00</td>\n",
       "</tr>\n",
       "</table>"
      ],
      "text/plain": [
       "<class 'statsmodels.iolib.summary.Summary'>\n",
       "\"\"\"\n",
       "                            OLS Regression Results                            \n",
       "==============================================================================\n",
       "Dep. Variable:                    CPI   R-squared:                       0.891\n",
       "Model:                            OLS   Adj. R-squared:                  0.890\n",
       "Method:                 Least Squares   F-statistic:                     1318.\n",
       "Date:                Thu, 24 Nov 2016   Prob (F-statistic):           1.02e-79\n",
       "Time:                        18:11:08   Log-Likelihood:                -296.97\n",
       "No. Observations:                 163   AIC:                             595.9\n",
       "Df Residuals:                     162   BIC:                             599.0\n",
       "Df Model:                           1                                         \n",
       "Covariance Type:            nonrobust                                         \n",
       "==============================================================================\n",
       "                 coef    std err          t      P>|t|      [95.0% Conf. Int.]\n",
       "------------------------------------------------------------------------------\n",
       "IDH            6.3321      0.174     36.300      0.000         5.988     6.677\n",
       "==============================================================================\n",
       "Omnibus:                       13.503   Durbin-Watson:                   1.766\n",
       "Prob(Omnibus):                  0.001   Jarque-Bera (JB):               14.991\n",
       "Skew:                           0.743   Prob(JB):                     0.000556\n",
       "Kurtosis:                       3.035   Cond. No.                         1.00\n",
       "==============================================================================\n",
       "\n",
       "Warnings:\n",
       "[1] Standard Errors assume that the covariance matrix of the errors is correctly specified.\n",
       "\"\"\""
      ]
     },
     "execution_count": 50,
     "metadata": {},
     "output_type": "execute_result"
    }
   ],
   "source": [
    "IDH.summary()"
   ]
  },
  {
   "cell_type": "code",
   "execution_count": 44,
   "metadata": {
    "collapsed": false
   },
   "outputs": [
    {
     "data": {
      "text/plain": [
       "<bound method OLS.predict of \n",
       "-------------------------Summary of Regression Analysis-------------------------\n",
       "\n",
       "Formula: Y ~ <x> + <intercept>\n",
       "\n",
       "Number of Observations:         163\n",
       "Number of Degrees of Freedom:   2\n",
       "\n",
       "R-squared:         0.5292\n",
       "Adj R-squared:     0.5263\n",
       "\n",
       "Rmse:              1.4465\n",
       "\n",
       "F-stat (1, 161):   180.9617, p-value:     0.0000\n",
       "\n",
       "Degrees of Freedom: model 1, resid 161\n",
       "\n",
       "-----------------------Summary of Estimated Coefficients------------------------\n",
       "      Variable       Coef    Std Err     t-stat    p-value    CI 2.5%   CI 97.5%\n",
       "--------------------------------------------------------------------------------\n",
       "             x     8.5855     0.6382      13.45     0.0000     7.3346     9.8365\n",
       "     intercept    -1.5742     0.4301      -3.66     0.0003    -2.4173    -0.7312\n",
       "---------------------------------End of Summary---------------------------------\n",
       ">"
      ]
     },
     "execution_count": 44,
     "metadata": {},
     "output_type": "execute_result"
    }
   ],
   "source": [
    "prev_CPI_IDH.predict"
   ]
  },
  {
   "cell_type": "code",
   "execution_count": 54,
   "metadata": {
    "collapsed": false
   },
   "outputs": [],
   "source": [
    "MortalidadeInfantil = sm.OLS(dados.CPI,dados.Mortalidade_Infantil).fit()"
   ]
  },
  {
   "cell_type": "code",
   "execution_count": 51,
   "metadata": {
    "collapsed": false
   },
   "outputs": [
    {
     "data": {
      "text/html": [
       "<table class=\"simpletable\">\n",
       "<caption>OLS Regression Results</caption>\n",
       "<tr>\n",
       "  <th>Dep. Variable:</th>           <td>CPI</td>       <th>  R-squared:         </th> <td>   0.219</td>\n",
       "</tr>\n",
       "<tr>\n",
       "  <th>Model:</th>                   <td>OLS</td>       <th>  Adj. R-squared:    </th> <td>   0.214</td>\n",
       "</tr>\n",
       "<tr>\n",
       "  <th>Method:</th>             <td>Least Squares</td>  <th>  F-statistic:       </th> <td>   45.39</td>\n",
       "</tr>\n",
       "<tr>\n",
       "  <th>Date:</th>             <td>Thu, 24 Nov 2016</td> <th>  Prob (F-statistic):</th> <td>2.68e-10</td>\n",
       "</tr>\n",
       "<tr>\n",
       "  <th>Time:</th>                 <td>18:11:34</td>     <th>  Log-Likelihood:    </th> <td> -457.12</td>\n",
       "</tr>\n",
       "<tr>\n",
       "  <th>No. Observations:</th>      <td>   163</td>      <th>  AIC:               </th> <td>   916.2</td>\n",
       "</tr>\n",
       "<tr>\n",
       "  <th>Df Residuals:</th>          <td>   162</td>      <th>  BIC:               </th> <td>   919.3</td>\n",
       "</tr>\n",
       "<tr>\n",
       "  <th>Df Model:</th>              <td>     1</td>      <th>                     </th>     <td> </td>   \n",
       "</tr>\n",
       "<tr>\n",
       "  <th>Covariance Type:</th>      <td>nonrobust</td>    <th>                     </th>     <td> </td>   \n",
       "</tr>\n",
       "</table>\n",
       "<table class=\"simpletable\">\n",
       "<tr>\n",
       "            <td></td>              <th>coef</th>     <th>std err</th>      <th>t</th>      <th>P>|t|</th> <th>[95.0% Conf. Int.]</th> \n",
       "</tr>\n",
       "<tr>\n",
       "  <th>Mortalidade_Infantil</th> <td>    0.0530</td> <td>    0.008</td> <td>    6.737</td> <td> 0.000</td> <td>    0.037     0.068</td>\n",
       "</tr>\n",
       "</table>\n",
       "<table class=\"simpletable\">\n",
       "<tr>\n",
       "  <th>Omnibus:</th>       <td> 7.279</td> <th>  Durbin-Watson:     </th> <td>   1.075</td>\n",
       "</tr>\n",
       "<tr>\n",
       "  <th>Prob(Omnibus):</th> <td> 0.026</td> <th>  Jarque-Bera (JB):  </th> <td>   6.080</td>\n",
       "</tr>\n",
       "<tr>\n",
       "  <th>Skew:</th>          <td> 0.383</td> <th>  Prob(JB):          </th> <td>  0.0478</td>\n",
       "</tr>\n",
       "<tr>\n",
       "  <th>Kurtosis:</th>      <td> 2.444</td> <th>  Cond. No.          </th> <td>    1.00</td>\n",
       "</tr>\n",
       "</table>"
      ],
      "text/plain": [
       "<class 'statsmodels.iolib.summary.Summary'>\n",
       "\"\"\"\n",
       "                            OLS Regression Results                            \n",
       "==============================================================================\n",
       "Dep. Variable:                    CPI   R-squared:                       0.219\n",
       "Model:                            OLS   Adj. R-squared:                  0.214\n",
       "Method:                 Least Squares   F-statistic:                     45.39\n",
       "Date:                Thu, 24 Nov 2016   Prob (F-statistic):           2.68e-10\n",
       "Time:                        18:11:34   Log-Likelihood:                -457.12\n",
       "No. Observations:                 163   AIC:                             916.2\n",
       "Df Residuals:                     162   BIC:                             919.3\n",
       "Df Model:                           1                                         \n",
       "Covariance Type:            nonrobust                                         \n",
       "========================================================================================\n",
       "                           coef    std err          t      P>|t|      [95.0% Conf. Int.]\n",
       "----------------------------------------------------------------------------------------\n",
       "Mortalidade_Infantil     0.0530      0.008      6.737      0.000         0.037     0.068\n",
       "==============================================================================\n",
       "Omnibus:                        7.279   Durbin-Watson:                   1.075\n",
       "Prob(Omnibus):                  0.026   Jarque-Bera (JB):                6.080\n",
       "Skew:                           0.383   Prob(JB):                       0.0478\n",
       "Kurtosis:                       2.444   Cond. No.                         1.00\n",
       "==============================================================================\n",
       "\n",
       "Warnings:\n",
       "[1] Standard Errors assume that the covariance matrix of the errors is correctly specified.\n",
       "\"\"\""
      ]
     },
     "execution_count": 51,
     "metadata": {},
     "output_type": "execute_result"
    }
   ],
   "source": [
    "MortalidadeInfantil.summary()"
   ]
  },
  {
   "cell_type": "code",
   "execution_count": 25,
   "metadata": {
    "collapsed": false
   },
   "outputs": [
    {
     "data": {
      "text/plain": [
       "<bound method OLS.predict of \n",
       "-------------------------Summary of Regression Analysis-------------------------\n",
       "\n",
       "Formula: Y ~ <x> + <intercept>\n",
       "\n",
       "Number of Observations:         163\n",
       "Number of Degrees of Freedom:   2\n",
       "\n",
       "R-squared:         0.3640\n",
       "Adj R-squared:     0.3601\n",
       "\n",
       "Rmse:              1.6812\n",
       "\n",
       "F-stat (1, 161):    92.1640, p-value:     0.0000\n",
       "\n",
       "Degrees of Freedom: model 1, resid 161\n",
       "\n",
       "-----------------------Summary of Estimated Coefficients------------------------\n",
       "      Variable       Coef    Std Err     t-stat    p-value    CI 2.5%   CI 97.5%\n",
       "--------------------------------------------------------------------------------\n",
       "             x    -0.0471     0.0049      -9.60     0.0000    -0.0567    -0.0374\n",
       "     intercept     5.3985     0.1958      27.57     0.0000     5.0147     5.7823\n",
       "---------------------------------End of Summary---------------------------------\n",
       ">"
      ]
     },
     "execution_count": 25,
     "metadata": {},
     "output_type": "execute_result"
    }
   ],
   "source": [
    "prev_CPI_MortalidadeInfantil.predict"
   ]
  },
  {
   "cell_type": "code",
   "execution_count": null,
   "metadata": {
    "collapsed": true
   },
   "outputs": [],
   "source": []
  },
  {
   "cell_type": "code",
   "execution_count": null,
   "metadata": {
    "collapsed": true
   },
   "outputs": [],
   "source": []
  },
  {
   "cell_type": "code",
   "execution_count": null,
   "metadata": {
    "collapsed": true
   },
   "outputs": [],
   "source": []
  }
 ],
 "metadata": {
  "kernelspec": {
   "display_name": "Python 3",
   "language": "python",
   "name": "python3"
  },
  "language_info": {
   "codemirror_mode": {
    "name": "ipython",
    "version": 3
   },
   "file_extension": ".py",
   "mimetype": "text/x-python",
   "name": "python",
   "nbconvert_exporter": "python",
   "pygments_lexer": "ipython3",
   "version": "3.5.2"
  }
 },
 "nbformat": 4,
 "nbformat_minor": 0
}
